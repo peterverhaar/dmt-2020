{
 "cells": [
  {
   "cell_type": "markdown",
   "metadata": {},
   "source": [
    "# XSLT transformations\n",
    "\n",
    "The code below can transform an XML file into another XML file (i.e. an HTML file), on the basis of a stylesheet. \n",
    "\n",
    "* As the value of the variable `xml_filename`, you need to specify the name of the XML file you want to transform.\n",
    "* The variable `xsl_filename` specifies the stylesheet that you want to use during the transformation.\n",
    "* This code will create a new file on your computer, containing the result of the transformation. The value that you supply for the variable `result_filename` will be used as its file name. \n",
    "\n",
    "To run the code, place the cursos inside the code black and press [Shift] + [Enter]"
   ]
  },
  {
   "cell_type": "code",
   "execution_count": 24,
   "metadata": {},
   "outputs": [
    {
     "name": "stdout",
     "output_type": "stream",
     "text": [
      "Transformation succesful!\n"
     ]
    }
   ],
   "source": [
    "from lxml import etree as ET\n",
    "from io import StringIO\n",
    "import string \n",
    "\n",
    "xml_filename = 'letter.xml'\n",
    "xsl_filename = 'letter.xsl'\n",
    "result_filename = 'out.html'\n",
    "\n",
    "def save_as_unicode(file):\n",
    "    with open(xml_filename , encoding = 'utf-8') as file:\n",
    "        contents = file.read()\n",
    "    out = open(xml_filename , 'w' , encoding = 'utf-8' )\n",
    "    out.write( contents )\n",
    "    out.close()\n",
    "    \n",
    "save_as_unicode(xml_filename)\n",
    "save_as_unicode(xsl_filename)\n",
    "    \n",
    "parser = ET.XMLParser(ns_clean=True , resolve_entities=True , encoding = 'utf-8')\n",
    "\n",
    "try:\n",
    "    dom = ET.parse( xml_filename , parser )\n",
    "    xslt = ET.parse( xsl_filename , parser )\n",
    "    transform = ET.XSLT(xslt)\n",
    "    newdom = transform(dom)\n",
    "\n",
    "    out = open( result_filename , 'w', encoding = 'utf-8' )\n",
    "    result = ET.tostring(newdom, pretty_print=True)\n",
    "\n",
    "    result = result.decode(\"utf-8\")\n",
    "    out.write( result )\n",
    "\n",
    "    out.close()\n",
    "\n",
    "    print(\"Transformation succesful!\")\n",
    "    \n",
    "except Exception as e:\n",
    "    print(e)\n",
    "    "
   ]
  },
  {
   "cell_type": "code",
   "execution_count": null,
   "metadata": {},
   "outputs": [],
   "source": []
  }
 ],
 "metadata": {
  "kernelspec": {
   "display_name": "Python 3",
   "language": "python",
   "name": "python3"
  },
  "language_info": {
   "codemirror_mode": {
    "name": "ipython",
    "version": 3
   },
   "file_extension": ".py",
   "mimetype": "text/x-python",
   "name": "python",
   "nbconvert_exporter": "python",
   "pygments_lexer": "ipython3",
   "version": "3.7.6"
  }
 },
 "nbformat": 4,
 "nbformat_minor": 4
}
